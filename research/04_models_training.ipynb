{
 "cells": [
  {
   "cell_type": "code",
   "execution_count": 1,
   "metadata": {},
   "outputs": [
    {
     "data": {
      "text/plain": [
       "'c:\\\\Users\\\\EI13136\\\\Documents\\\\mlops'"
      ]
     },
     "execution_count": 1,
     "metadata": {},
     "output_type": "execute_result"
    }
   ],
   "source": [
    "import os\n",
    "os.chdir('../')\n",
    "%pwd"
   ]
  },
  {
   "cell_type": "code",
   "execution_count": 2,
   "metadata": {},
   "outputs": [],
   "source": [
    "import pandas as pd\n",
    "\n",
    "from sklearn.linear_model import LogisticRegression\n",
    "from sklearn.svm import SVC\n",
    "from sklearn.tree import DecisionTreeClassifier\n",
    "from sklearn.ensemble import GradientBoostingClassifier\n",
    "from sklearn.neighbors import KNeighborsClassifier\n",
    "from sklearn.linear_model import SGDClassifier\n",
    "from sklearn.ensemble import RandomForestClassifier\n",
    "from xgboost.sklearn import XGBClassifier\n",
    "from sklearn.naive_bayes import GaussianNB\n",
    "import lightgbm as lgb\n",
    "from sklearn.ensemble import AdaBoostClassifier"
   ]
  },
  {
   "cell_type": "code",
   "execution_count": 3,
   "metadata": {},
   "outputs": [],
   "source": [
    "train_df = pd.read_csv(\"artifacts/data_transformation/train.csv\")\n",
    "test_df = pd.read_csv(\"artifacts/data_transformation/test.csv\")"
   ]
  },
  {
   "cell_type": "code",
   "execution_count": 4,
   "metadata": {},
   "outputs": [],
   "source": [
    "x_train = train_df.drop(columns=['Satisfaction'])\n",
    "y_train = train_df['Satisfaction']"
   ]
  },
  {
   "cell_type": "code",
   "execution_count": 5,
   "metadata": {},
   "outputs": [
    {
     "name": "stdout",
     "output_type": "stream",
     "text": [
      "Model 'Logistic Regression' saved to 'models/Logistic Regression.joblib'.\n",
      "Model 'KNeighbors Classifier' saved to 'models/KNeighbors Classifier.joblib'.\n",
      "Model 'Decision Tree Classifier' saved to 'models/Decision Tree Classifier.joblib'.\n",
      "Model 'Naive Bayes' saved to 'models/Naive Bayes.joblib'.\n",
      "Model 'Support Vector Machine' saved to 'models/Support Vector Machine.joblib'.\n",
      "Model 'Gradient Descent' saved to 'models/Gradient Descent.joblib'.\n",
      "Model 'Random Forest Classifier' saved to 'models/Random Forest Classifier.joblib'.\n",
      "Model 'Xgboost Classifier' saved to 'models/Xgboost Classifier.joblib'.\n"
     ]
    },
    {
     "name": "stderr",
     "output_type": "stream",
     "text": [
      "c:\\Users\\EI13136\\Documents\\mlops\\env\\Lib\\site-packages\\sklearn\\ensemble\\_weight_boosting.py:519: FutureWarning: The SAMME.R algorithm (the default) is deprecated and will be removed in 1.6. Use the SAMME algorithm to circumvent this warning.\n",
      "  warnings.warn(\n"
     ]
    },
    {
     "name": "stdout",
     "output_type": "stream",
     "text": [
      "Model 'Adaboost Classifier' saved to 'models/Adaboost Classifier.joblib'.\n",
      "Model 'Gradient Boosting Classifier' saved to 'models/Gradient Boosting Classifier.joblib'.\n",
      "[LightGBM] [Warning] Found whitespace in feature_names, replace with underlines\n",
      "[LightGBM] [Info] Number of positive: 42406, number of negative: 55004\n",
      "[LightGBM] [Info] Auto-choosing row-wise multi-threading, the overhead of testing was 0.002206 seconds.\n",
      "You can set `force_row_wise=true` to remove the overhead.\n",
      "And if memory is not enough, you can set `force_col_wise=true`.\n",
      "[LightGBM] [Info] Total Bins 953\n",
      "[LightGBM] [Info] Number of data points in the train set: 97410, number of used features: 27\n",
      "[LightGBM] [Info] [binary:BoostFromScore]: pavg=0.435335 -> initscore=-0.260116\n",
      "[LightGBM] [Info] Start training from score -0.260116\n",
      "Model 'Lightgbm' saved to 'models/Lightgbm.joblib'.\n"
     ]
    }
   ],
   "source": [
    "import joblib\n",
    "\n",
    "models = {\n",
    "    \"Logistic Regression\": LogisticRegression(),\n",
    "    \"KNeighbors Classifier\": KNeighborsClassifier(),\n",
    "    \"Decision Tree Classifier\": DecisionTreeClassifier(),\n",
    "    \"Naive Bayes\": GaussianNB(),\n",
    "    \"Support Vector Machine\": SVC(),\n",
    "    \"Gradient Descent\": SGDClassifier(),\n",
    "    \"Random Forest Classifier\": RandomForestClassifier(),\n",
    "    \"Xgboost Classifier\": XGBClassifier(),\n",
    "    \"Adaboost Classifier\": AdaBoostClassifier(),\n",
    "    \"Gradient Boosting Classifier\": GradientBoostingClassifier(),\n",
    "    \"Lightgbm\": lgb.LGBMClassifier()\n",
    "}\n",
    "\n",
    "\n",
    "for model_name, model_instance in models.items():\n",
    "    model_instance.fit(x_train, y_train)\n",
    "   \n",
    "    joblib.dump(model_instance, f'artifacts/models/{model_name}.joblib')\n",
    "    print(f\"Model '{model_name}' saved to 'models/{model_name}.joblib'.\")"
   ]
  },
  {
   "cell_type": "code",
   "execution_count": 55,
   "metadata": {},
   "outputs": [],
   "source": [
    "from dataclasses import dataclass\n",
    "from pathlib import Path\n",
    "\n",
    "@dataclass(frozen=True)\n",
    "class ModelTrainerConfig:\n",
    "    root_dir: Path\n",
    "    train_data_path: Path\n",
    "    target_column: str"
   ]
  },
  {
   "cell_type": "code",
   "execution_count": 56,
   "metadata": {},
   "outputs": [],
   "source": [
    "from airline_passenger_satisfaction.constants import *\n",
    "from airline_passenger_satisfaction.utils.common import read_yaml, create_directories"
   ]
  },
  {
   "cell_type": "code",
   "execution_count": 57,
   "metadata": {},
   "outputs": [],
   "source": [
    "class ConfigurationManager:\n",
    "    def __init__(self,\n",
    "                 config_filepath = CONFIG_FILE_PATH,\n",
    "                 params_filepath = PARAMS_FILE_PATH,\n",
    "                 schema_filepath = SCHEMA_FILE_PATH):\n",
    "        self.config = read_yaml(config_filepath)\n",
    "        self.params = read_yaml(params_filepath)\n",
    "        self.schema = read_yaml(schema_filepath)\n",
    "\n",
    "        create_directories([self.config.artifacts_root])\n",
    "\n",
    "\n",
    "    def get_model_trainer_config(self) -> ModelTrainerConfig:\n",
    "        config = self.config.model_trainer\n",
    "        schema = self.schema.TARGET_COLUMN\n",
    "\n",
    "        create_directories([config.root_dir])\n",
    "\n",
    "        model_trainer_config = ModelTrainerConfig(\n",
    "            root_dir= config.root_dir,\n",
    "            train_data_path= config.train_data_path,\n",
    "            target_column= schema.name\n",
    "        )\n",
    "\n",
    "        return model_trainer_config"
   ]
  },
  {
   "cell_type": "code",
   "execution_count": 58,
   "metadata": {},
   "outputs": [],
   "source": [
    "import pandas as pd\n",
    "import os\n",
    "import joblib\n",
    "from airline_passenger_satisfaction.logger import logger\n",
    "from airline_passenger_satisfaction.exception import CustomException\n",
    "\n",
    "from sklearn.linear_model import LogisticRegression\n",
    "from sklearn.svm import SVC\n",
    "from sklearn.tree import DecisionTreeClassifier\n",
    "from sklearn.ensemble import GradientBoostingClassifier\n",
    "from sklearn.neighbors import KNeighborsClassifier\n",
    "from sklearn.linear_model import SGDClassifier\n",
    "from sklearn.ensemble import RandomForestClassifier\n",
    "from xgboost.sklearn import XGBClassifier\n",
    "from sklearn.naive_bayes import GaussianNB\n",
    "import lightgbm as lgb\n",
    "from sklearn.ensemble import AdaBoostClassifier"
   ]
  },
  {
   "cell_type": "code",
   "execution_count": 59,
   "metadata": {},
   "outputs": [],
   "source": [
    "class ModelTrainer:\n",
    "    def __init__(self, config=ModelTrainerConfig) -> None:\n",
    "        self.config = config\n",
    "\n",
    "    def models_trainer(self):\n",
    "        train_df = pd.read_csv(self.config.train_data_path)\n",
    "\n",
    "        x_train = train_df.drop(columns=[self.config.target_column])\n",
    "        y_train = train_df[self.config.target_column]\n",
    "\n",
    "        models = {\n",
    "            \"Logistic Regression\": LogisticRegression(),\n",
    "            \"KNeighbors Classifier\": KNeighborsClassifier(),\n",
    "            \"Decision Tree Classifier\": DecisionTreeClassifier(),\n",
    "            \"Naive Bayes\": GaussianNB(),\n",
    "            \"Support Vector Machine\": SVC(),\n",
    "            \"Gradient Descent\": SGDClassifier(),\n",
    "            \"Random Forest Classifier\": RandomForestClassifier(),\n",
    "            \"Xgboost Classifier\": XGBClassifier(),\n",
    "            \"Adaboost Classifier\": AdaBoostClassifier(),\n",
    "            \"Gradient Boosting Classifier\": GradientBoostingClassifier(),\n",
    "            \"Lightgbm\": lgb.LGBMClassifier()\n",
    "            }\n",
    "\n",
    "        for model_name, model_instance in models.items():\n",
    "            model_instance.fit(x_train, y_train)\n",
    "   \n",
    "            joblib.dump(model_instance, f'{self.config.root_dir}/{model_name}.joblib')\n",
    "            print(f\"Model '{model_name}' saved to '{self.config.root_dir}/{model_name}.joblib'.\")\n",
    "            logger.info(f\"Model '{model_name}' saved to '{self.config.root_dir}/{model_name}.joblib'.\")"
   ]
  },
  {
   "cell_type": "code",
   "execution_count": 60,
   "metadata": {},
   "outputs": [
    {
     "name": "stdout",
     "output_type": "stream",
     "text": [
      "[2024-02-12 15:29:55,798] [INFO] [Airline Passenger Reviews Logger] [common] : yaml file config\\config.yaml loaded successfully\n",
      "[2024-02-12 15:29:55,799] [INFO] [Airline Passenger Reviews Logger] [common] : yaml file params.yaml loaded successfully\n",
      "[2024-02-12 15:29:55,801] [INFO] [Airline Passenger Reviews Logger] [common] : yaml file schema.yaml loaded successfully\n",
      "[2024-02-12 15:29:55,803] [INFO] [Airline Passenger Reviews Logger] [common] : Created directory at : artifacts\n",
      "[2024-02-12 15:29:55,804] [INFO] [Airline Passenger Reviews Logger] [common] : Created directory at : artifacts/model_trainer\n",
      "Model 'Logistic Regression' saved to 'artifacts/model_trainer/Logistic Regression.joblib'.\n",
      "[2024-02-12 15:29:56,190] [INFO] [Airline Passenger Reviews Logger] [1177539164] : Model 'Logistic Regression' saved to 'artifacts/model_trainer/Logistic Regression.joblib'.\n",
      "Model 'KNeighbors Classifier' saved to 'artifacts/model_trainer/KNeighbors Classifier.joblib'.\n",
      "[2024-02-12 15:29:56,226] [INFO] [Airline Passenger Reviews Logger] [1177539164] : Model 'KNeighbors Classifier' saved to 'artifacts/model_trainer/KNeighbors Classifier.joblib'.\n",
      "Model 'Decision Tree Classifier' saved to 'artifacts/model_trainer/Decision Tree Classifier.joblib'.\n",
      "[2024-02-12 15:29:56,625] [INFO] [Airline Passenger Reviews Logger] [1177539164] : Model 'Decision Tree Classifier' saved to 'artifacts/model_trainer/Decision Tree Classifier.joblib'.\n",
      "Model 'Naive Bayes' saved to 'artifacts/model_trainer/Naive Bayes.joblib'.\n",
      "[2024-02-12 15:29:56,678] [INFO] [Airline Passenger Reviews Logger] [1177539164] : Model 'Naive Bayes' saved to 'artifacts/model_trainer/Naive Bayes.joblib'.\n",
      "Model 'Support Vector Machine' saved to 'artifacts/model_trainer/Support Vector Machine.joblib'.\n",
      "[2024-02-12 15:31:39,940] [INFO] [Airline Passenger Reviews Logger] [1177539164] : Model 'Support Vector Machine' saved to 'artifacts/model_trainer/Support Vector Machine.joblib'.\n",
      "Model 'Gradient Descent' saved to 'artifacts/model_trainer/Gradient Descent.joblib'.\n",
      "[2024-02-12 15:31:40,250] [INFO] [Airline Passenger Reviews Logger] [1177539164] : Model 'Gradient Descent' saved to 'artifacts/model_trainer/Gradient Descent.joblib'.\n",
      "Model 'Random Forest Classifier' saved to 'artifacts/model_trainer/Random Forest Classifier.joblib'.\n",
      "[2024-02-12 15:31:47,302] [INFO] [Airline Passenger Reviews Logger] [1177539164] : Model 'Random Forest Classifier' saved to 'artifacts/model_trainer/Random Forest Classifier.joblib'.\n",
      "Model 'Xgboost Classifier' saved to 'artifacts/model_trainer/Xgboost Classifier.joblib'.\n",
      "[2024-02-12 15:31:47,741] [INFO] [Airline Passenger Reviews Logger] [1177539164] : Model 'Xgboost Classifier' saved to 'artifacts/model_trainer/Xgboost Classifier.joblib'.\n"
     ]
    },
    {
     "name": "stderr",
     "output_type": "stream",
     "text": [
      "c:\\Users\\EI13136\\Documents\\mlops\\env\\Lib\\site-packages\\sklearn\\ensemble\\_weight_boosting.py:519: FutureWarning: The SAMME.R algorithm (the default) is deprecated and will be removed in 1.6. Use the SAMME algorithm to circumvent this warning.\n",
      "  warnings.warn(\n"
     ]
    },
    {
     "name": "stdout",
     "output_type": "stream",
     "text": [
      "Model 'Adaboost Classifier' saved to 'artifacts/model_trainer/Adaboost Classifier.joblib'.\n",
      "[2024-02-12 15:31:50,870] [INFO] [Airline Passenger Reviews Logger] [1177539164] : Model 'Adaboost Classifier' saved to 'artifacts/model_trainer/Adaboost Classifier.joblib'.\n",
      "Model 'Gradient Boosting Classifier' saved to 'artifacts/model_trainer/Gradient Boosting Classifier.joblib'.\n",
      "[2024-02-12 15:32:01,798] [INFO] [Airline Passenger Reviews Logger] [1177539164] : Model 'Gradient Boosting Classifier' saved to 'artifacts/model_trainer/Gradient Boosting Classifier.joblib'.\n",
      "[LightGBM] [Warning] Found whitespace in feature_names, replace with underlines\n",
      "[LightGBM] [Info] Number of positive: 42406, number of negative: 55004\n",
      "[LightGBM] [Info] Auto-choosing row-wise multi-threading, the overhead of testing was 0.002302 seconds.\n",
      "You can set `force_row_wise=true` to remove the overhead.\n",
      "And if memory is not enough, you can set `force_col_wise=true`.\n",
      "[LightGBM] [Info] Total Bins 953\n",
      "[LightGBM] [Info] Number of data points in the train set: 97410, number of used features: 27\n",
      "[LightGBM] [Info] [binary:BoostFromScore]: pavg=0.435335 -> initscore=-0.260116\n",
      "[LightGBM] [Info] Start training from score -0.260116\n",
      "Model 'Lightgbm' saved to 'artifacts/model_trainer/Lightgbm.joblib'.\n",
      "[2024-02-12 15:32:02,214] [INFO] [Airline Passenger Reviews Logger] [1177539164] : Model 'Lightgbm' saved to 'artifacts/model_trainer/Lightgbm.joblib'.\n"
     ]
    }
   ],
   "source": [
    "import sys\n",
    "\n",
    "try:\n",
    "    config = ConfigurationManager()\n",
    "    model_trainer_config = config.get_model_trainer_config()\n",
    "    model_trainer = ModelTrainer(config=model_trainer_config)\n",
    "    model_trainer.models_trainer()\n",
    "except Exception as e:\n",
    "    raise CustomException(e, sys)"
   ]
  },
  {
   "cell_type": "markdown",
   "metadata": {},
   "source": []
  },
  {
   "cell_type": "markdown",
   "metadata": {},
   "source": []
  },
  {
   "cell_type": "code",
   "execution_count": null,
   "metadata": {},
   "outputs": [],
   "source": [
    " "
   ]
  }
 ],
 "metadata": {
  "kernelspec": {
   "display_name": "env",
   "language": "python",
   "name": "python3"
  },
  "language_info": {
   "codemirror_mode": {
    "name": "ipython",
    "version": 3
   },
   "file_extension": ".py",
   "mimetype": "text/x-python",
   "name": "python",
   "nbconvert_exporter": "python",
   "pygments_lexer": "ipython3",
   "version": "3.11.7"
  }
 },
 "nbformat": 4,
 "nbformat_minor": 2
}
